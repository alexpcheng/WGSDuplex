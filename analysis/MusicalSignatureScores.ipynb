{
 "cells": [
  {
   "cell_type": "code",
   "execution_count": null,
   "metadata": {},
   "outputs": [],
   "source": [
    "import musical\n",
    "import pandas as pd\n",
    "from pyfaidx import Fasta\n",
    "import numpy as np\n",
    "from numpy import dot\n",
    "from numpy.linalg import norm\n",
    "import seaborn as sns\n",
    "import glob\n",
    "import matplotlib.pyplot as plt\n",
    "pd.option_context('display.max_rows', None,\n",
    "                       'display.max_columns', None,\n",
    "                       'display.precision', 3,\n",
    "                       )"
   ]
  },
  {
   "cell_type": "code",
   "execution_count": null,
   "metadata": {},
   "outputs": [],
   "source": [
    "def FormatData(filename, sample_id, catalog, thresh, musical_method, denoising_method, path_to_yields):\n",
    "    df = pd.read_csv(filename, sep = '\\t')\n",
    "    \n",
    "    df['Type'] = df['triN'].str[0] + '[' + df['variant'] + ']' + df['triN'].str[2]\n",
    "    total = df['total_count'].values[0]\n",
    "    df = df[['Type', 'count']]\n",
    "    df.columns = ['Type', 'count']\n",
    "    df = df.set_index('Type')\n",
    "    df = df.reindex(catalog.index)\n",
    "\n",
    "    H, model = musical.refit.refit(df, catalog, method = musical_method, thresh=thresh) #WORKS FOR BLADDER v3_3\n",
    "    \n",
    "    H['frequency'] = H['count']/np.sum(H['count'])\n",
    "    H['signature'] = H.index\n",
    "    H['sample_id'] = sample_id\n",
    "    \n",
    "    if denoising_method == 'duplex':\n",
    "        duplexes = 0\n",
    "        for x in glob.glob(f'{path_to_yields}/*/*duplex_yield_metrics.txt'):\n",
    "            y = pd.read_csv(x, sep = '\\t')\n",
    "            duplexes += y[y['fraction']==1]['ds_duplexes'].values[0]\n",
    "        H['molecule_counts'] = duplexes\n",
    "            \n",
    "    elif denoising_method == 'single_strand':\n",
    "        singlestrands = 0\n",
    "        for x in glob.glob(f'{path_to_yields}/*/*.step6.r1_consensus_filt_mapped.bam.sscs.counts.txt'):\n",
    "            with open(x) as f:\n",
    "                y = f.readlines()[0]\n",
    "                y = int(y.strip())\n",
    "                singlestrands+=y\n",
    "        H['molecule_counts'] = singlestrands/2 #Normalize to duplexes\n",
    "    elif denoising_method == \"umi_agnostic\":\n",
    "        reads = 0\n",
    "        for x in glob.glob(f'{path_to_yields}/*/*.flagstat'):\n",
    "            with open(x) as f:\n",
    "                for line in f:\n",
    "                    if 'primary mapped' in line:\n",
    "                        pm = int(line.split(' + ')[0])\n",
    "                    if 'primary duplicates' in line:\n",
    "                        dup = int(line.split(' + ')[0])\n",
    "                        \n",
    "                reads+=pm-dup\n",
    "                \n",
    "        H['molecule_counts'] = reads/2 #Normalize to duplexes\n",
    "        \n",
    "    else:\n",
    "        print(\"DENOISING METHOD UNKNOWN\")\n",
    "        return(-1)\n",
    "        \n",
    "\n",
    "    H['total'] = total\n",
    "    H['threshold'] = thresh\n",
    "    H['mode']  = musical_method\n",
    "    H['denoising'] = denoising_method\n",
    "    return(H, model, df)\n"
   ]
  },
  {
   "cell_type": "markdown",
   "metadata": {},
   "source": [
    "## Melanoma cohort"
   ]
  },
  {
   "cell_type": "code",
   "execution_count": null,
   "metadata": {},
   "outputs": [],
   "source": [
    "catalog = pd.read_csv('../data_objects/sbseverything.txt', sep = '\\t')\n",
    "\n",
    "catalog = catalog.set_index(\"Type\")\n",
    "catalog = catalog[['SBS7a', 'SBS7b', 'CH']]\n",
    "\n",
    "mode = 'likelihood_bidirectional'\n",
    "T = 0.007\n",
    "\n",
    "results, musical_model, trinucleotide_df = \\\n",
    "        FormatData(\\\n",
    "            path_to_triN, \\\n",
    "            sample_id, \\\n",
    "            catalog, \\\n",
    "            T, \\\n",
    "            mode, \\\n",
    "            denoising_method, \\\n",
    "            path_to_molecule_counts)\n",
    "\n",
    "results['score'] = results['frequency']*results['total'] / (results['molecule_counts'] * 170 / 2875001522)\n",
    "print(results)"
   ]
  },
  {
   "cell_type": "markdown",
   "metadata": {},
   "source": [
    "## Bladder cancer cohort parameters"
   ]
  },
  {
   "cell_type": "code",
   "execution_count": null,
   "metadata": {},
   "outputs": [],
   "source": [
    "catalog = pd.read_csv('../data_objects/sbseverything.txt', sep = '\\t')\n",
    "\n",
    "catalog = catalog.set_index(\"Type\")\n",
    "catalog = catalog[['SBS2', 'SBS13', 'SBS31', 'SBS35', 'CH']]\n",
    "\n",
    "mode = 'likelihood_bidirectional'\n",
    "T = 0.025\n",
    "\n",
    "# Process as above"
   ]
  },
  {
   "cell_type": "code",
   "execution_count": null,
   "metadata": {},
   "outputs": [],
   "source": []
  }
 ],
 "metadata": {
  "kernelspec": {
   "display_name": "test2",
   "language": "python",
   "name": "test2"
  },
  "language_info": {
   "codemirror_mode": {
    "name": "ipython",
    "version": 3
   },
   "file_extension": ".py",
   "mimetype": "text/x-python",
   "name": "python",
   "nbconvert_exporter": "python",
   "pygments_lexer": "ipython3",
   "version": "3.9.9"
  }
 },
 "nbformat": 4,
 "nbformat_minor": 2
}
